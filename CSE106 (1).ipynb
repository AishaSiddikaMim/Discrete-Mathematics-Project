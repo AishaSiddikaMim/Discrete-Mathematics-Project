{
  "nbformat": 4,
  "nbformat_minor": 0,
  "metadata": {
    "colab": {
      "provenance": []
    },
    "kernelspec": {
      "name": "python3",
      "display_name": "Python 3"
    },
    "language_info": {
      "name": "python"
    }
  },
  "cells": [
    {
      "cell_type": "code",
      "source": [
        "# from sympy import symbols\n",
        "# from sympy.logic.boolalg import to_cnf\n",
        "# from sympy.logic import satisfiable\n",
        "\n",
        "# def is_satisfiable(proposition):\n",
        "#     # Converting the proposition to conjunctive normal form (CNF)\n",
        "#     cnf_proposition = to_cnf(proposition)\n",
        "\n",
        "#     # Checking if the CNF proposition is always false (unsatisfiable)\n",
        "#     if cnf_proposition == False:\n",
        "#         return False, None\n",
        "\n",
        "#     # Finding a satisfying assignment using the satisfiable function\n",
        "#     satisfying_assignments = satisfiable(cnf_proposition)\n",
        "\n",
        "#     # Trying to retrieve the first satisfying assignment\n",
        "#     try:\n",
        "#         first_assignment = next(iter(satisfying_assignments))\n",
        "#         return True, first_assignment\n",
        "#     except StopIteration:\n",
        "#         return False, None\n",
        "\n",
        "# # Example usage:\n",
        "# proposition_input = input(\"Enter a propositional statement: \")\n",
        "# satisfiable_result, assignment = is_satisfiable(proposition_input)\n",
        "\n",
        "# # Print the result\n",
        "# if satisfiable_result:\n",
        "#     print(f\"The proposition '{proposition_input}' is satisfiable.\")\n",
        "#     print(f\"A satisfying assignment: {assignment}\")\n",
        "# else:\n",
        "#     print(f\"The proposition '{proposition_input}' is not satisfiable.\")\n"
      ],
      "metadata": {
        "colab": {
          "base_uri": "https://localhost:8080/"
        },
        "id": "UJKpwfa2g6-C",
        "outputId": "8f1fe008-586c-4349-d9e4-da8ce59fa4a2"
      },
      "execution_count": 13,
      "outputs": [
        {
          "output_type": "stream",
          "name": "stdout",
          "text": [
            "Enter a propositional statement: (p and q) and (not p and not q)\n",
            "The proposition '(p and q) and (not p and not q)' is not satisfiable.\n"
          ]
        }
      ]
    },
    {
      "cell_type": "code",
      "source": [
        "from sympy import symbols\n",
        "from sympy.logic.boolalg import to_cnf\n",
        "from sympy.logic import satisfiable\n",
        "\n",
        "def is_satisfiable(proposition):\n",
        "    # Converting the proposition to conjunctive normal form (CNF)\n",
        "    cnf_proposition = to_cnf(proposition)\n",
        "\n",
        "    # Checking if the CNF proposition is always false (unsatisfiable)\n",
        "    if cnf_proposition == False:\n",
        "        return False\n",
        "\n",
        "    # Finding a satisfying assignment using the satisfiable function\n",
        "    satisfying_assignments = satisfiable(cnf_proposition)\n",
        "\n",
        "    # Checking if there is at least one satisfying assignment\n",
        "    return bool(satisfying_assignments)\n",
        "\n",
        "# Example usage:\n",
        "proposition_input = input(\"Enter a propositional statement: \")\n",
        "satisfiable_result = is_satisfiable(proposition_input)\n",
        "\n",
        "# Print the result\n",
        "if satisfiable_result:\n",
        "    print(f\"The Compound Proposition '{proposition_input}' is satisfiable.\")\n",
        "else:\n",
        "    print(f\"The Compound Proposition '{proposition_input}' is not satisfiable.\")\n"
      ],
      "metadata": {
        "colab": {
          "base_uri": "https://localhost:8080/"
        },
        "id": "gwqb6J02h_aR",
        "outputId": "f5e32c3d-203a-49b9-c013-fe32d31c230b"
      },
      "execution_count": 22,
      "outputs": [
        {
          "output_type": "stream",
          "name": "stdout",
          "text": [
            "Enter a propositional statement: (p and q) and (not p and not q)\n",
            "The Compound Proposition '(p and q) and (not p and not q)' is not satisfiable.\n"
          ]
        }
      ]
    }
  ]
}